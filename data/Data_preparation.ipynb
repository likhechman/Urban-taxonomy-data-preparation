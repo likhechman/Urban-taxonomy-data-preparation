{
 "cells": [
  {
   "cell_type": "markdown",
   "id": "cec96c0c",
   "metadata": {},
   "source": [
    "# Data preparation for Numerical Taxonomy of Urban Form\n",
    "\n",
    "This notebook serves as a template for data preparation for morphometric assessment and generation of a taxonomy.\n",
    "\n",
    "## Code requiring changes before running\n",
    "\n",
    "Input data:\n",
    " - QGIS data from OSM\n",
    " - Open Buildings data\n",
    " - Koordinates data\n",
    " - or any other data\n",
    "\n",
    "Geometry column is required.\n",
    " \n",
    "This notebook is running the preparation on the data used in El-Paso and Ciudad-Juares case study. You can replace the sample with your own data, assuming that they are cleaned to a required standard.\n",
    "\n",
    "The data is saved in `../data` in a folder in different folders for convenience.\n",
    "\n",
    "First we import all required libraries."
   ]
  },
  {
   "cell_type": "code",
   "execution_count": 3,
   "id": "ed579e68",
   "metadata": {},
   "outputs": [],
   "source": [
    "import pandas as pd\n",
    "import geopandas as gpd\n",
    "import shapely"
   ]
  },
  {
   "cell_type": "markdown",
   "id": "1de9a173",
   "metadata": {},
   "source": [
    "Import data from Open Buildings."
   ]
  },
  {
   "cell_type": "code",
   "execution_count": 2,
   "id": "e0e3fc79",
   "metadata": {},
   "outputs": [],
   "source": [
    "# reading as much file as necessary \n",
    "open_buildings_data_1 = pd.read_csv('Open Buildings/86f_buildings.csv') \n",
    "open_buildings_data_2 = pd.read_csv('Open Buildings/86d_buildings.csv')\n",
    "\n",
    "# joint of DataFrames if necessary\n",
    "open_buildings_data = pd.concat([open_buildings_data_1, open_buildings_data_2])\n",
    "open_buildings_data = open_buildings_data.reset_index(drop=True)\n",
    "\n",
    "# creating GeoDataFrame\n",
    "open_buildings_data = gpd.GeoDataFrame( \n",
    "    geometry=gpd.GeoSeries.from_wkt(open_buildings_data['geometry']), \n",
    "    crs='EPSG:4326'\n",
    ")"
   ]
  },
  {
   "cell_type": "markdown",
   "id": "6c3ac64e",
   "metadata": {},
   "source": [
    "Import El Paso and Ciudad Juraez border data from QGIS."
   ]
  },
  {
   "cell_type": "code",
   "execution_count": 3,
   "id": "b483a888",
   "metadata": {},
   "outputs": [],
   "source": [
    "# reading as much file as necessary \n",
    "area = gpd.read_file('QGIS/boundaries.gpkg')\n",
    "\n",
    "# joint of DataFrames if necessary\n",
    "\n",
    "# creating GeoDataFrame\n",
    "area = gpd.GeoDataFrame(\n",
    "    geometry=area['geometry'], \n",
    "    crs='EPSG:4326'\n",
    ")"
   ]
  },
  {
   "cell_type": "markdown",
   "id": "ac3efe04",
   "metadata": {},
   "source": [
    "Reducing the search area for faster subsequent calculations."
   ]
  },
  {
   "cell_type": "code",
   "execution_count": 4,
   "id": "4f77b928",
   "metadata": {},
   "outputs": [],
   "source": [
    "# creating Polygon\n",
    "\n",
    "polygon = shapely.Polygon(\n",
    "    ((-105., 33.),\n",
    "    (-108., 33.),\n",
    "    (-108., 31.),\n",
    "    (-105., 31.))\n",
    ")\n",
    "\n",
    "# selection of data by area\n",
    "open_buildings_data['target'] = open_buildings_data.within(polygon, align=False)\n",
    "open_buildings_data = open_buildings_data.loc[open_buildings_data['target'] == True]"
   ]
  },
  {
   "cell_type": "markdown",
   "id": "3dd660f5",
   "metadata": {},
   "source": [
    "Finding those buildings that are located inside city boundaries."
   ]
  },
  {
   "cell_type": "code",
   "execution_count": 5,
   "id": "9e5634f8",
   "metadata": {},
   "outputs": [],
   "source": [
    "open_buildings_data = open_buildings_data.sjoin(area, how='left', predicate='within')\n",
    "open_buildings_data = open_buildings_data.loc[open_buildings_data['index_right'].notnull()]\n",
    "open_buildings_data = open_buildings_data.drop(columns='index_right')"
   ]
  },
  {
   "cell_type": "markdown",
   "id": "45257e04",
   "metadata": {},
   "source": [
    "Importing data from Koordinates"
   ]
  },
  {
   "cell_type": "code",
   "execution_count": 6,
   "id": "fa513bb2",
   "metadata": {},
   "outputs": [],
   "source": [
    "# reading as much file as necessary\n",
    "koordinates_data = gpd.read_file('Koordinates\\el-paso-county-texas-building-footprints.shp')\n",
    "koordinates_data = koordinates_data.to_crs(crs='EPSG:4326')\n",
    "koordinates_data = koordinates_data.explode(index_parts=False)\n",
    "koordinates_data.reset_index(drop=True)\n",
    "\n",
    "# joint of DataFrames if necessary\n",
    "\n",
    "# creating GeoDataFrame\n",
    "koordinates_data = gpd.GeoDataFrame(\n",
    "    geometry=koordinates_data['geometry'], \n",
    "    crs='EPSG:4326'\n",
    ")"
   ]
  },
  {
   "cell_type": "markdown",
   "id": "d21f3e2b",
   "metadata": {},
   "source": [
    "Removing buildings from Open Buildings that appear in Koordinates."
   ]
  },
  {
   "cell_type": "code",
   "execution_count": 7,
   "id": "a4c7ef59",
   "metadata": {},
   "outputs": [],
   "source": [
    "open_buildings_data = open_buildings_data.sjoin(koordinates_data, how='left')\n",
    "open_buildings_data = open_buildings_data.loc[open_buildings_data['index_right'].isnull()]"
   ]
  },
  {
   "cell_type": "markdown",
   "id": "d0c9bc65",
   "metadata": {},
   "source": [
    "Creating a single geodataframe from Open Buildings and Koordinates and exporting for further work."
   ]
  },
  {
   "cell_type": "code",
   "execution_count": 8,
   "id": "c20cdce5",
   "metadata": {},
   "outputs": [],
   "source": [
    "buildings = pd.concat([open_buildings_data , koordinates_data])\n",
    "buildings = buildings.drop(columns=['target', 'index_right'])"
   ]
  },
  {
   "cell_type": "markdown",
   "id": "d91d1385",
   "metadata": {},
   "source": [
    "Importing El Paso and Ciudad Juraez road data from QGIS."
   ]
  },
  {
   "cell_type": "code",
   "execution_count": 9,
   "id": "f4adbe8c",
   "metadata": {},
   "outputs": [],
   "source": [
    "# reading as much file as necessary\n",
    "streets = gpd.read_file('QGIS/roads.shp')\n",
    "\n",
    "# joint of DataFrames if necessary\n",
    "\n",
    "# creating GeoDataFrame\n",
    "streets = gpd.GeoDataFrame(\n",
    "    geometry=streets['geometry'], \n",
    "    crs='EPSG:4326'\n",
    ")"
   ]
  },
  {
   "cell_type": "markdown",
   "id": "67070a5f",
   "metadata": {},
   "source": [
    "You can also apply some actions to the street data.\n",
    "\n",
    "Export dataframes into a single file for further work."
   ]
  },
  {
   "cell_type": "code",
   "execution_count": 10,
   "id": "e42b20ff",
   "metadata": {},
   "outputs": [],
   "source": [
    "buildings.to_file('data.gpkg', layer='buildings', driver='GPKG')\n",
    "streets.to_file('data.gpkg', layer='streets', driver='GPKG')"
   ]
  }
 ],
 "metadata": {
  "kernelspec": {
   "display_name": "Python 3 (ipykernel)",
   "language": "python",
   "name": "python3"
  },
  "language_info": {
   "codemirror_mode": {
    "name": "ipython",
    "version": 3
   },
   "file_extension": ".py",
   "mimetype": "text/x-python",
   "name": "python",
   "nbconvert_exporter": "python",
   "pygments_lexer": "ipython3",
   "version": "3.11.5"
  }
 },
 "nbformat": 4,
 "nbformat_minor": 5
}
